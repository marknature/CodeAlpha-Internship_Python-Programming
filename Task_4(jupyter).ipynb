{
 "cells": [
  {
   "cell_type": "markdown",
   "id": "c1999be2",
   "metadata": {},
   "source": [
    "## Mental Health FAQ Chatbot\n",
    "This notebook builds a knowledge-based chatbot that answers questions from the Mental Health FAQ dataset."
   ]
  },
  {
   "cell_type": "code",
   "execution_count": 4,
   "id": "89ecd495",
   "metadata": {},
   "outputs": [
    {
     "data": {
      "text/plain": [
       "'\\n# Install dependencies as needed:\\n# pip install kagglehub[pandas-datasets]\\nimport kagglehub\\nfrom kagglehub import KaggleDatasetAdapter\\n\\n# Set the path to the file you\\'d like to load\\nfile_path = \"\"\\n\\n# Load the latest version\\ndf = kagglehub.load_dataset(\\n  KaggleDatasetAdapter.PANDAS,\\n  \"narendrageek/mental-health-faq-for-chatbot\",\\n  file_path,\\n  # Provide any additional arguments like \\n  # sql_query or pandas_kwargs. See the \\n  # documenation for more information:\\n  # https://github.com/Kaggle/kagglehub/blob/main/README.md#kaggledatasetadapterpandas\\n)\\n\\nprint(\"First 5 records:\", df.head())\\n'"
      ]
     },
     "execution_count": 4,
     "metadata": {},
     "output_type": "execute_result"
    }
   ],
   "source": [
    "\"\"\"\n",
    "# Install dependencies as needed:\n",
    "# pip install kagglehub[pandas-datasets]\n",
    "import kagglehub\n",
    "from kagglehub import KaggleDatasetAdapter\n",
    "\n",
    "# Set the path to the file you'd like to load\n",
    "file_path = \"\"\n",
    "\n",
    "# Load the latest version\n",
    "df = kagglehub.load_dataset(\n",
    "  KaggleDatasetAdapter.PANDAS,\n",
    "  \"narendrageek/mental-health-faq-for-chatbot\",\n",
    "  file_path,\n",
    "  # Provide any additional arguments like \n",
    "  # sql_query or pandas_kwargs. See the \n",
    "  # documenation for more information:\n",
    "  # https://github.com/Kaggle/kagglehub/blob/main/README.md#kaggledatasetadapterpandas\n",
    ")\n",
    "\n",
    "print(\"First 5 records:\", df.head())\n",
    "\"\"\""
   ]
  },
  {
   "cell_type": "markdown",
   "id": "29022ea1",
   "metadata": {},
   "source": [
    "1. Data Loading and Exploration"
   ]
  },
  {
   "cell_type": "code",
   "execution_count": 5,
   "id": "1335ecfd",
   "metadata": {},
   "outputs": [
    {
     "name": "stdout",
     "output_type": "stream",
     "text": [
      "Dataset shape: (98, 3)\n"
     ]
    },
    {
     "data": {
      "text/html": [
       "<div>\n",
       "<style scoped>\n",
       "    .dataframe tbody tr th:only-of-type {\n",
       "        vertical-align: middle;\n",
       "    }\n",
       "\n",
       "    .dataframe tbody tr th {\n",
       "        vertical-align: top;\n",
       "    }\n",
       "\n",
       "    .dataframe thead th {\n",
       "        text-align: right;\n",
       "    }\n",
       "</style>\n",
       "<table border=\"1\" class=\"dataframe\">\n",
       "  <thead>\n",
       "    <tr style=\"text-align: right;\">\n",
       "      <th></th>\n",
       "      <th>Question_ID</th>\n",
       "      <th>Questions</th>\n",
       "      <th>Answers</th>\n",
       "    </tr>\n",
       "  </thead>\n",
       "  <tbody>\n",
       "    <tr>\n",
       "      <th>0</th>\n",
       "      <td>1590140</td>\n",
       "      <td>What does it mean to have a mental illness?</td>\n",
       "      <td>Mental illnesses are health conditions that di...</td>\n",
       "    </tr>\n",
       "    <tr>\n",
       "      <th>1</th>\n",
       "      <td>2110618</td>\n",
       "      <td>Who does mental illness affect?</td>\n",
       "      <td>It is estimated that mental illness affects 1 ...</td>\n",
       "    </tr>\n",
       "    <tr>\n",
       "      <th>2</th>\n",
       "      <td>6361820</td>\n",
       "      <td>What causes mental illness?</td>\n",
       "      <td>It is estimated that mental illness affects 1 ...</td>\n",
       "    </tr>\n",
       "    <tr>\n",
       "      <th>3</th>\n",
       "      <td>9434130</td>\n",
       "      <td>What are some of the warning signs of mental i...</td>\n",
       "      <td>Symptoms of mental health disorders vary depen...</td>\n",
       "    </tr>\n",
       "    <tr>\n",
       "      <th>4</th>\n",
       "      <td>7657263</td>\n",
       "      <td>Can people with mental illness recover?</td>\n",
       "      <td>When healing from mental illness, early identi...</td>\n",
       "    </tr>\n",
       "  </tbody>\n",
       "</table>\n",
       "</div>"
      ],
      "text/plain": [
       "   Question_ID                                          Questions  \\\n",
       "0      1590140        What does it mean to have a mental illness?   \n",
       "1      2110618                    Who does mental illness affect?   \n",
       "2      6361820                        What causes mental illness?   \n",
       "3      9434130  What are some of the warning signs of mental i...   \n",
       "4      7657263            Can people with mental illness recover?   \n",
       "\n",
       "                                             Answers  \n",
       "0  Mental illnesses are health conditions that di...  \n",
       "1  It is estimated that mental illness affects 1 ...  \n",
       "2  It is estimated that mental illness affects 1 ...  \n",
       "3  Symptoms of mental health disorders vary depen...  \n",
       "4  When healing from mental illness, early identi...  "
      ]
     },
     "execution_count": 5,
     "metadata": {},
     "output_type": "execute_result"
    }
   ],
   "source": [
    "import pandas as pd\n",
    "# Load the dataset (assuming CSV is in same directory)\n",
    "df = pd.read_csv('Mental_Health_FAQ.csv')\n",
    "# Display first few rows\n",
    "print(f\"Dataset shape: {df.shape}\")\n",
    "df.head()"
   ]
  },
  {
   "cell_type": "markdown",
   "id": "33dfad3a",
   "metadata": {},
   "source": [
    "2. Data Processing"
   ]
  },
  {
   "cell_type": "code",
   "execution_count": 6,
   "id": "63099356",
   "metadata": {},
   "outputs": [],
   "source": [
    "import nltk\n",
    "from nltk.corpus import stopwords\n",
    "from nltk.stem import WordNetLemmatizer\n",
    "import re"
   ]
  },
  {
   "cell_type": "code",
   "execution_count": 7,
   "id": "80222840",
   "metadata": {},
   "outputs": [
    {
     "name": "stderr",
     "output_type": "stream",
     "text": [
      "[nltk_data] Downloading package punkt to\n",
      "[nltk_data]     C:\\Users\\markn\\AppData\\Roaming\\nltk_data...\n",
      "[nltk_data]   Package punkt is already up-to-date!\n",
      "[nltk_data] Downloading package stopwords to\n",
      "[nltk_data]     C:\\Users\\markn\\AppData\\Roaming\\nltk_data...\n",
      "[nltk_data]   Package stopwords is already up-to-date!\n",
      "[nltk_data] Downloading package wordnet to\n",
      "[nltk_data]     C:\\Users\\markn\\AppData\\Roaming\\nltk_data...\n",
      "[nltk_data]   Package wordnet is already up-to-date!\n"
     ]
    },
    {
     "data": {
      "text/plain": [
       "True"
      ]
     },
     "execution_count": 7,
     "metadata": {},
     "output_type": "execute_result"
    }
   ],
   "source": [
    "# Download NLTK resources\n",
    "nltk.download('punkt')\n",
    "nltk.download('stopwords')\n",
    "nltk.download('wordnet')"
   ]
  },
  {
   "cell_type": "code",
   "execution_count": 8,
   "id": "e7a4126a",
   "metadata": {},
   "outputs": [],
   "source": [
    "def preprocess_text(text):\n",
    "    \"\"\"Preprocess text for NLP tasks\"\"\"\n",
    "    # Convert to lowercase\n",
    "    text = text.lower()\n",
    "    # Remove special characters and digits\n",
    "    text = re.sub(r'[^a-zA-Z\\s]', '', text)\n",
    "    # Tokenize\n",
    "    tokens = nltk.word_tokenize(text)\n",
    "    # Remove stopwords\n",
    "    stop_words = set(stopwords.words('english'))\n",
    "    tokens = [word for word in tokens if word not in stop_words]\n",
    "    # Lemmatize\n",
    "    lemmatizer = WordNetLemmatizer()\n",
    "    tokens = [lemmatizer.lemmatize(word) for word in tokens]\n",
    "    return ' '.join(tokens)"
   ]
  },
  {
   "cell_type": "code",
   "execution_count": 9,
   "id": "481ee373",
   "metadata": {},
   "outputs": [
    {
     "data": {
      "text/html": [
       "<div>\n",
       "<style scoped>\n",
       "    .dataframe tbody tr th:only-of-type {\n",
       "        vertical-align: middle;\n",
       "    }\n",
       "\n",
       "    .dataframe tbody tr th {\n",
       "        vertical-align: top;\n",
       "    }\n",
       "\n",
       "    .dataframe thead th {\n",
       "        text-align: right;\n",
       "    }\n",
       "</style>\n",
       "<table border=\"1\" class=\"dataframe\">\n",
       "  <thead>\n",
       "    <tr style=\"text-align: right;\">\n",
       "      <th></th>\n",
       "      <th>Question_ID</th>\n",
       "      <th>Questions</th>\n",
       "      <th>Answers</th>\n",
       "      <th>processed</th>\n",
       "    </tr>\n",
       "  </thead>\n",
       "  <tbody>\n",
       "    <tr>\n",
       "      <th>9</th>\n",
       "      <td>7760466</td>\n",
       "      <td>What is the difference between mental health p...</td>\n",
       "      <td>There are many types of mental health professi...</td>\n",
       "      <td>difference mental health professional many typ...</td>\n",
       "    </tr>\n",
       "    <tr>\n",
       "      <th>35</th>\n",
       "      <td>2554141</td>\n",
       "      <td>Why do I need a plan?</td>\n",
       "      <td>There are a lot of things you can't control. Y...</td>\n",
       "      <td>need plan lot thing cant control cant control ...</td>\n",
       "    </tr>\n",
       "    <tr>\n",
       "      <th>77</th>\n",
       "      <td>6062232</td>\n",
       "      <td>What's the difference between sadness and depr...</td>\n",
       "      <td>Sadness is a normal reaction to a loss, disapp...</td>\n",
       "      <td>whats difference sadness depression sadness no...</td>\n",
       "    </tr>\n",
       "  </tbody>\n",
       "</table>\n",
       "</div>"
      ],
      "text/plain": [
       "    Question_ID                                          Questions  \\\n",
       "9       7760466  What is the difference between mental health p...   \n",
       "35      2554141                              Why do I need a plan?   \n",
       "77      6062232  What's the difference between sadness and depr...   \n",
       "\n",
       "                                              Answers  \\\n",
       "9   There are many types of mental health professi...   \n",
       "35  There are a lot of things you can't control. Y...   \n",
       "77  Sadness is a normal reaction to a loss, disapp...   \n",
       "\n",
       "                                            processed  \n",
       "9   difference mental health professional many typ...  \n",
       "35  need plan lot thing cant control cant control ...  \n",
       "77  whats difference sadness depression sadness no...  "
      ]
     },
     "execution_count": 9,
     "metadata": {},
     "output_type": "execute_result"
    }
   ],
   "source": [
    "# Create processed text column\n",
    "df['processed'] = df['Questions'].apply(preprocess_text) + \" \" + df['Answers'].apply(preprocess_text)\n",
    "df.sample(3)"
   ]
  },
  {
   "cell_type": "markdown",
   "id": "c3dcca83",
   "metadata": {},
   "source": [
    "4. Vectorization and Similarity Matching"
   ]
  },
  {
   "cell_type": "code",
   "execution_count": 10,
   "id": "7484cc1c",
   "metadata": {},
   "outputs": [],
   "source": [
    "from sklearn.feature_extraction.text import TfidfVectorizer\n",
    "from sklearn.metrics.pairwise import cosine_similarity"
   ]
  },
  {
   "cell_type": "code",
   "execution_count": 11,
   "id": "d71b185e",
   "metadata": {},
   "outputs": [],
   "source": [
    "# Initialize and fit TF-IDF vectorizer\n",
    "vectorizer = TfidfVectorizer()\n",
    "tfidf_matrix = vectorizer.fit_transform(df['processed'])"
   ]
  },
  {
   "cell_type": "markdown",
   "id": "0fbe5020",
   "metadata": {},
   "source": [
    "5. Chatbot Implementation"
   ]
  },
  {
   "cell_type": "code",
   "execution_count": 12,
   "id": "07f664c4",
   "metadata": {},
   "outputs": [],
   "source": [
    "def get_most_similar_response(user_input):\n",
    "    \"\"\"Find most similar FAQ answer to user input\"\"\"\n",
    "    # Preprocess user input\n",
    "    processed_input = preprocess_text(user_input)\n",
    "    \n",
    "    # Vectorize input\n",
    "    input_vector = vectorizer.transform([processed_input])\n",
    "    \n",
    "    # Calculate similarities\n",
    "    similarities = cosine_similarity(input_vector, tfidf_matrix)\n",
    "    \n",
    "    # Get index of most similar FAQ entry\n",
    "    max_sim_idx = similarities.argmax()\n",
    "    max_similarity = similarities[0, max_sim_idx]\n",
    "    \n",
    "    # Return answer with confidence\n",
    "    if max_similarity < 0.2:\n",
    "        return \"I'm not sure I understand. Could you please rephrase your question?\", 0\n",
    "    \n",
    "    return df.iloc[max_sim_idx]['Answers'], max_similarity"
   ]
  },
  {
   "cell_type": "markdown",
   "id": "9cbbbe31",
   "metadata": {},
   "source": [
    "6. Chatbot Interface"
   ]
  },
  {
   "cell_type": "code",
   "execution_count": 13,
   "id": "e4c19bb1",
   "metadata": {},
   "outputs": [],
   "source": [
    "def run_chatbot():\n",
    "    print(\"\\nMental Health FAQ Chatbot\")\n",
    "    print(\"Type 'quit' to exit\\n\")\n",
    "    print(\"How can I help you today?\")\n",
    "    \n",
    "    while True:\n",
    "        user_input = input(\"\\nYou: \")\n",
    "        \n",
    "        if user_input.lower() == 'quit':\n",
    "            print(\"Bot: Thank you for chatting. Take care!\")\n",
    "            break\n",
    "            \n",
    "        response, confidence = get_most_similar_response(user_input)\n",
    "        \n",
    "        if confidence < 0.2:\n",
    "            print(f\"Bot: {response}\")\n",
    "        else:\n",
    "            print(f\"Bot: {response}\")\n",
    "            print(f\"[Confidence: {confidence:.2f}]\")"
   ]
  },
  {
   "cell_type": "markdown",
   "id": "c8954747",
   "metadata": {},
   "source": [
    "7. Test the Chatbot"
   ]
  },
  {
   "cell_type": "code",
   "execution_count": 14,
   "id": "4a407639",
   "metadata": {},
   "outputs": [
    {
     "name": "stdout",
     "output_type": "stream",
     "text": [
      "\n",
      "Mental Health FAQ Chatbot\n",
      "Type 'quit' to exit\n",
      "\n",
      "How can I help you today?\n",
      "Bot: I'm not sure I understand. Could you please rephrase your question?\n",
      "Bot: I'm not sure I understand. Could you please rephrase your question?\n",
      "Bot: I'm not sure I understand. Could you please rephrase your question?\n",
      "Bot: I'm not sure I understand. Could you please rephrase your question?\n",
      "Bot: I'm not sure I understand. Could you please rephrase your question?\n",
      "Bot: I'm not sure I understand. Could you please rephrase your question?\n",
      "Bot: I'm not sure I understand. Could you please rephrase your question?\n",
      "Bot: I'm not sure I understand. Could you please rephrase your question?\n",
      "Bot: I'm not sure I understand. Could you please rephrase your question?\n",
      "Bot: I'm not sure I understand. Could you please rephrase your question?\n",
      "Bot: I'm not sure I understand. Could you please rephrase your question?\n",
      "Bot: I'm not sure I understand. Could you please rephrase your question?\n",
      "Bot: I'm not sure I understand. Could you please rephrase your question?\n",
      "Bot: I'm not sure I understand. Could you please rephrase your question?\n",
      "Bot: I'm not sure I understand. Could you please rephrase your question?\n",
      "Bot: I'm not sure I understand. Could you please rephrase your question?\n",
      "Bot: I'm not sure I understand. Could you please rephrase your question?\n",
      "Bot: I'm not sure I understand. Could you please rephrase your question?\n",
      "Bot: Thank you for chatting. Take care!\n"
     ]
    }
   ],
   "source": [
    "# Run the chatbot interface\n",
    "run_chatbot()"
   ]
  },
  {
   "cell_type": "markdown",
   "id": "8e79faa6",
   "metadata": {},
   "source": [
    "8. Example Tests (Done to verify & test)"
   ]
  },
  {
   "cell_type": "code",
   "execution_count": 15,
   "id": "667f7d88",
   "metadata": {},
   "outputs": [
    {
     "name": "stdout",
     "output_type": "stream",
     "text": [
      "\n",
      "Q: What are signs of mental illness?\n",
      "A: Prodrome is a medical term for early signs or symptoms of an illness or health problem that appear before the major signs or symptoms start. \n",
      " Psychosis, a group of symptoms found in disorders like schizophrenia, is one illness with a specific prodrome. With psychosis, prodrome signs and symptoms start before full symptoms like hallucinations and delusions appear. \n",
      " Common symptoms in the prodrome of psychosis include: \n",
      " These symptoms are found in many other mental illnesses, so it isn’t always clear at the time if this is a prodrome of psychosis or schizophrenia or something else. It’s best to seek help whenever you are concerned about your mental health or a loved one’s mental health. Psychosis and schizophrenia are much easier to manage and treat when treatment starts early.\n",
      "Confidence: 0.27\n",
      "\n",
      "Q: How do I find a therapist?\n",
      "A: There are likely plenty of resources that can be used to help you find mental health treatment in your community. These resources can help you find the right therapist, and enable you to better understand viable treatment options and the treatment process.\n",
      "Confidence: 0.32\n",
      "\n",
      "Q: What is depression?\n",
      "A: Our info sheets on mood disorders, bipolar disorder, and depression offer information on mood problems, treatment options, and resources in BC. We also offer What is Depression? It’s a booklet with audio in plain language for lower literacy readers. You can take a screening self-test for depression (and other mental health concerns). The adult depression tool also screens for signs of bipolar disorder. \n",
      " If you want to go beyond the basics, our Managing Depression series can help you deal with a diagnosis of depression, work with doctor, and prevent relapse of depression. You’ll also find many experiences and perspectives around depression—reading personal stories can help you feel less alone.\n",
      "Confidence: 0.64\n",
      "\n",
      "Q: random unrelated question\n",
      "A: I'm not sure I understand. Could you please rephrase your question?\n",
      "Confidence: 0.00\n"
     ]
    }
   ],
   "source": [
    "# Automated test cases\n",
    "test_questions = [\n",
    "    \"What are signs of mental illness?\",\n",
    "    \"How do I find a therapist?\",\n",
    "    \"What is depression?\",\n",
    "    \"random unrelated question\"\n",
    "]\n",
    "for q in test_questions:\n",
    "    response, confidence = get_most_similar_response(q)\n",
    "    # Print the question, response, and confidence\n",
    "    print(f\"\\nQ: {q}\")\n",
    "    print(f\"A: {response}\")\n",
    "    print(f\"Confidence: {confidence:.2f}\")"
   ]
  },
  {
   "cell_type": "markdown",
   "id": "0e1f9c4c",
   "metadata": {},
   "source": [
    "9. Further Improvements"
   ]
  },
  {
   "cell_type": "code",
   "execution_count": 16,
   "id": "53b4d39c",
   "metadata": {},
   "outputs": [
    {
     "name": "stdout",
     "output_type": "stream",
     "text": [
      "Chatbot development complete!\n"
     ]
    }
   ],
   "source": [
    "# To enhance this chatbot, consider:\n",
    "# - Adding context/memory of conversation\n",
    "# - Implementing spell check\n",
    "# - Adding entity recognition for better responses\n",
    "# - Creating a proper UI with Flask/Django\n",
    "# - Implementing logging for user questions\n",
    "\n",
    "print(\"Chatbot development complete!\")\n",
    "# This code is a simple chatbot that uses a dataset of mental health FAQs."
   ]
  }
 ],
 "metadata": {
  "kernelspec": {
   "display_name": "Python 3",
   "language": "python",
   "name": "python3"
  },
  "language_info": {
   "codemirror_mode": {
    "name": "ipython",
    "version": 3
   },
   "file_extension": ".py",
   "mimetype": "text/x-python",
   "name": "python",
   "nbconvert_exporter": "python",
   "pygments_lexer": "ipython3",
   "version": "3.12.9"
  }
 },
 "nbformat": 4,
 "nbformat_minor": 5
}
